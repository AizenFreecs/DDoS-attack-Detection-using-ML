{
 "cells": [
  {
   "cell_type": "code",
   "execution_count": 1,
   "id": "270f884f",
   "metadata": {},
   "outputs": [],
   "source": [
    "import numpy as np\n",
    "import pandas as pd \n",
    "import sklearn\n",
    "\n",
    "from sklearn.model_selection import GridSearchCV, train_test_split\n",
    "from sklearn.metrics import accuracy_score, classification_report, confusion_matrix\n",
    "from sklearn.linear_model import LogisticRegression\n",
    "from sklearn.linear_model import LinearRegression\n",
    "from sklearn.neighbors import KNeighborsClassifier as KNN\n",
    "from sklearn.ensemble import RandomForestClassifier as RFC\n",
    "from sklearn.svm import SVC\n",
    "from sklearn.naive_bayes import GaussianNB\n",
    "from sklearn.tree import DecisionTreeClassifier\n",
    "from sklearn.preprocessing import StandardScaler\n",
    "from sklearn.discriminant_analysis import LinearDiscriminantAnalysis as LDA\n",
    "from sklearn.ensemble import AdaBoostClassifier\n",
    "\n",
    "from sklearn.metrics import (\n",
    "    confusion_matrix,\n",
    "    accuracy_score,\n",
    "    precision_score,\n",
    "    recall_score,\n",
    "    f1_score,\n",
    "    roc_auc_score\n",
    ")\n",
    "\n",
    "from sklearn import metrics"
   ]
  },
  {
   "cell_type": "code",
   "execution_count": 2,
   "id": "1fab2116",
   "metadata": {},
   "outputs": [],
   "source": [
    "train = pd.read_csv(r'C:\\Users\\Aizen Freecs\\Downloads\\Luflow_Project\\Dataset\\dataset_final\\LuFlow_Train.csv')\n",
    "test = pd.read_csv(r'C:\\Users\\Aizen Freecs\\Downloads\\Luflow_Project\\Dataset\\dataset_final\\LUFlow_Test.csv')"
   ]
  },
  {
   "cell_type": "code",
   "execution_count": 3,
   "id": "22ffb323",
   "metadata": {},
   "outputs": [],
   "source": [
    "def calculate_metrics(y_real, y_pred):\n",
    "    # Calculates the confusion matrix and recover each element\n",
    "    cm = confusion_matrix(y_real, y_pred)\n",
    "    TN = cm[0, 0]\n",
    "    FP = cm[0, 1]\n",
    "    FN = cm[1, 0]\n",
    "    TP = cm[1, 1]\n",
    "    # Calculates tpr and fpr\n",
    "    tpr =  TP/(TP + FN) # sensitivity - true positive rate\n",
    "    fpr = 1 - TN/(TN+FP) # 1-specificity - false positive rate\n",
    "    specificity = TN/(TN+FP)\n",
    "    \n",
    "    print(f\"Tpr/Sensitivity = {tpr}\")\n",
    "    print(f\"Fpr = {fpr}\")\n",
    "    print(f\"Specificity = {specificity}\")\n",
    "    return 0"
   ]
  },
  {
   "cell_type": "code",
   "execution_count": 4,
   "id": "7955ef22",
   "metadata": {},
   "outputs": [
    {
     "data": {
      "text/html": [
       "<div>\n",
       "<style scoped>\n",
       "    .dataframe tbody tr th:only-of-type {\n",
       "        vertical-align: middle;\n",
       "    }\n",
       "\n",
       "    .dataframe tbody tr th {\n",
       "        vertical-align: top;\n",
       "    }\n",
       "\n",
       "    .dataframe thead th {\n",
       "        text-align: right;\n",
       "    }\n",
       "</style>\n",
       "<table border=\"1\" class=\"dataframe\">\n",
       "  <thead>\n",
       "    <tr style=\"text-align: right;\">\n",
       "      <th></th>\n",
       "      <th>avg_ipt</th>\n",
       "      <th>bytes_in</th>\n",
       "      <th>bytes_out</th>\n",
       "      <th>dest_port</th>\n",
       "      <th>entropy</th>\n",
       "      <th>num_pkts_out</th>\n",
       "      <th>num_pkts_in</th>\n",
       "      <th>proto</th>\n",
       "      <th>src_port</th>\n",
       "      <th>total_entropy</th>\n",
       "      <th>label</th>\n",
       "      <th>duration</th>\n",
       "    </tr>\n",
       "  </thead>\n",
       "  <tbody>\n",
       "    <tr>\n",
       "      <th>0</th>\n",
       "      <td>110.5</td>\n",
       "      <td>270</td>\n",
       "      <td>191</td>\n",
       "      <td>445.0</td>\n",
       "      <td>4.527156</td>\n",
       "      <td>6</td>\n",
       "      <td>7</td>\n",
       "      <td>6</td>\n",
       "      <td>61000.0</td>\n",
       "      <td>2087.0190</td>\n",
       "      <td>1</td>\n",
       "      <td>0.868325</td>\n",
       "    </tr>\n",
       "    <tr>\n",
       "      <th>1</th>\n",
       "      <td>0.0</td>\n",
       "      <td>0</td>\n",
       "      <td>52</td>\n",
       "      <td>37647.0</td>\n",
       "      <td>5.623515</td>\n",
       "      <td>1</td>\n",
       "      <td>1</td>\n",
       "      <td>6</td>\n",
       "      <td>22.0</td>\n",
       "      <td>292.4228</td>\n",
       "      <td>1</td>\n",
       "      <td>0.014956</td>\n",
       "    </tr>\n",
       "    <tr>\n",
       "      <th>2</th>\n",
       "      <td>0.0</td>\n",
       "      <td>0</td>\n",
       "      <td>3188</td>\n",
       "      <td>9200.0</td>\n",
       "      <td>5.064273</td>\n",
       "      <td>3</td>\n",
       "      <td>1</td>\n",
       "      <td>6</td>\n",
       "      <td>52448.0</td>\n",
       "      <td>16144.9030</td>\n",
       "      <td>0</td>\n",
       "      <td>0.000072</td>\n",
       "    </tr>\n",
       "    <tr>\n",
       "      <th>3</th>\n",
       "      <td>0.0</td>\n",
       "      <td>0</td>\n",
       "      <td>8626</td>\n",
       "      <td>9200.0</td>\n",
       "      <td>2.806410</td>\n",
       "      <td>6</td>\n",
       "      <td>1</td>\n",
       "      <td>6</td>\n",
       "      <td>52334.0</td>\n",
       "      <td>24208.0900</td>\n",
       "      <td>0</td>\n",
       "      <td>0.000563</td>\n",
       "    </tr>\n",
       "    <tr>\n",
       "      <th>4</th>\n",
       "      <td>0.0</td>\n",
       "      <td>0</td>\n",
       "      <td>0</td>\n",
       "      <td>445.0</td>\n",
       "      <td>0.000000</td>\n",
       "      <td>1</td>\n",
       "      <td>0</td>\n",
       "      <td>6</td>\n",
       "      <td>61438.0</td>\n",
       "      <td>0.0000</td>\n",
       "      <td>1</td>\n",
       "      <td>0.000000</td>\n",
       "    </tr>\n",
       "  </tbody>\n",
       "</table>\n",
       "</div>"
      ],
      "text/plain": [
       "   avg_ipt  bytes_in  bytes_out  dest_port   entropy  num_pkts_out  \\\n",
       "0    110.5       270        191      445.0  4.527156             6   \n",
       "1      0.0         0         52    37647.0  5.623515             1   \n",
       "2      0.0         0       3188     9200.0  5.064273             3   \n",
       "3      0.0         0       8626     9200.0  2.806410             6   \n",
       "4      0.0         0          0      445.0  0.000000             1   \n",
       "\n",
       "   num_pkts_in  proto  src_port  total_entropy  label  duration  \n",
       "0            7      6   61000.0      2087.0190      1  0.868325  \n",
       "1            1      6      22.0       292.4228      1  0.014956  \n",
       "2            1      6   52448.0     16144.9030      0  0.000072  \n",
       "3            1      6   52334.0     24208.0900      0  0.000563  \n",
       "4            0      6   61438.0         0.0000      1  0.000000  "
      ]
     },
     "execution_count": 4,
     "metadata": {},
     "output_type": "execute_result"
    }
   ],
   "source": [
    "train.head()"
   ]
  },
  {
   "cell_type": "code",
   "execution_count": 5,
   "id": "452348eb",
   "metadata": {},
   "outputs": [
    {
     "name": "stdout",
     "output_type": "stream",
     "text": [
      "<class 'pandas.core.frame.DataFrame'>\n",
      "RangeIndex: 1967092 entries, 0 to 1967091\n",
      "Data columns (total 12 columns):\n",
      " #   Column         Dtype  \n",
      "---  ------         -----  \n",
      " 0   avg_ipt        float64\n",
      " 1   bytes_in       int64  \n",
      " 2   bytes_out      int64  \n",
      " 3   dest_port      float64\n",
      " 4   entropy        float64\n",
      " 5   num_pkts_out   int64  \n",
      " 6   num_pkts_in    int64  \n",
      " 7   proto          int64  \n",
      " 8   src_port       float64\n",
      " 9   total_entropy  float64\n",
      " 10  label          int64  \n",
      " 11  duration       float64\n",
      "dtypes: float64(6), int64(6)\n",
      "memory usage: 180.1 MB\n"
     ]
    }
   ],
   "source": [
    "train.info()"
   ]
  },
  {
   "cell_type": "code",
   "execution_count": 6,
   "id": "4e5dcc69",
   "metadata": {},
   "outputs": [],
   "source": [
    "X_train = train.iloc[:,[3,6,7,8,9,11]]\n",
    "y_train = np.array(train.pop(\"label\"))\n",
    "X_test = test.iloc[:,[3,6,7,8,9,11]]\n",
    "y_test = np.array(test.pop(\"label\"))"
   ]
  },
  {
   "cell_type": "code",
   "execution_count": 7,
   "id": "00153724",
   "metadata": {},
   "outputs": [
    {
     "data": {
      "text/html": [
       "<div>\n",
       "<style scoped>\n",
       "    .dataframe tbody tr th:only-of-type {\n",
       "        vertical-align: middle;\n",
       "    }\n",
       "\n",
       "    .dataframe tbody tr th {\n",
       "        vertical-align: top;\n",
       "    }\n",
       "\n",
       "    .dataframe thead th {\n",
       "        text-align: right;\n",
       "    }\n",
       "</style>\n",
       "<table border=\"1\" class=\"dataframe\">\n",
       "  <thead>\n",
       "    <tr style=\"text-align: right;\">\n",
       "      <th></th>\n",
       "      <th>dest_port</th>\n",
       "      <th>num_pkts_in</th>\n",
       "      <th>proto</th>\n",
       "      <th>src_port</th>\n",
       "      <th>total_entropy</th>\n",
       "      <th>duration</th>\n",
       "    </tr>\n",
       "  </thead>\n",
       "  <tbody>\n",
       "    <tr>\n",
       "      <th>0</th>\n",
       "      <td>445.0</td>\n",
       "      <td>7</td>\n",
       "      <td>6</td>\n",
       "      <td>61000.0</td>\n",
       "      <td>2087.0190</td>\n",
       "      <td>0.868325</td>\n",
       "    </tr>\n",
       "    <tr>\n",
       "      <th>1</th>\n",
       "      <td>37647.0</td>\n",
       "      <td>1</td>\n",
       "      <td>6</td>\n",
       "      <td>22.0</td>\n",
       "      <td>292.4228</td>\n",
       "      <td>0.014956</td>\n",
       "    </tr>\n",
       "    <tr>\n",
       "      <th>2</th>\n",
       "      <td>9200.0</td>\n",
       "      <td>1</td>\n",
       "      <td>6</td>\n",
       "      <td>52448.0</td>\n",
       "      <td>16144.9030</td>\n",
       "      <td>0.000072</td>\n",
       "    </tr>\n",
       "    <tr>\n",
       "      <th>3</th>\n",
       "      <td>9200.0</td>\n",
       "      <td>1</td>\n",
       "      <td>6</td>\n",
       "      <td>52334.0</td>\n",
       "      <td>24208.0900</td>\n",
       "      <td>0.000563</td>\n",
       "    </tr>\n",
       "    <tr>\n",
       "      <th>4</th>\n",
       "      <td>445.0</td>\n",
       "      <td>0</td>\n",
       "      <td>6</td>\n",
       "      <td>61438.0</td>\n",
       "      <td>0.0000</td>\n",
       "      <td>0.000000</td>\n",
       "    </tr>\n",
       "  </tbody>\n",
       "</table>\n",
       "</div>"
      ],
      "text/plain": [
       "   dest_port  num_pkts_in  proto  src_port  total_entropy  duration\n",
       "0      445.0            7      6   61000.0      2087.0190  0.868325\n",
       "1    37647.0            1      6      22.0       292.4228  0.014956\n",
       "2     9200.0            1      6   52448.0     16144.9030  0.000072\n",
       "3     9200.0            1      6   52334.0     24208.0900  0.000563\n",
       "4      445.0            0      6   61438.0         0.0000  0.000000"
      ]
     },
     "execution_count": 7,
     "metadata": {},
     "output_type": "execute_result"
    }
   ],
   "source": [
    "X_train.head()"
   ]
  },
  {
   "cell_type": "markdown",
   "id": "1ba517b8",
   "metadata": {},
   "source": [
    "## Preprocessing\n"
   ]
  },
  {
   "cell_type": "code",
   "execution_count": 8,
   "id": "326283b6",
   "metadata": {},
   "outputs": [],
   "source": [
    "scalar = StandardScaler()\n",
    "\n",
    "X_train = scalar.fit_transform(X_train)\n"
   ]
  },
  {
   "cell_type": "code",
   "execution_count": 9,
   "id": "d87c1cfd",
   "metadata": {},
   "outputs": [],
   "source": [
    "X_test = scalar.transform(X_test)"
   ]
  },
  {
   "cell_type": "markdown",
   "id": "e2592b13",
   "metadata": {},
   "source": [
    "# ML Classifiers\n"
   ]
  },
  {
   "cell_type": "markdown",
   "id": "0a3bedf4",
   "metadata": {},
   "source": [
    "# Logistic Regression"
   ]
  },
  {
   "cell_type": "code",
   "execution_count": 10,
   "id": "3b28d65b",
   "metadata": {},
   "outputs": [
    {
     "name": "stdout",
     "output_type": "stream",
     "text": [
      "0.8499762763332701\n"
     ]
    }
   ],
   "source": [
    "model_lr = LogisticRegression(max_iter = 100000 )\n",
    "fs1_lr = model_lr.fit(X_train,y_train)\n",
    "print(fs1_lr.score(X_test,y_test))"
   ]
  },
  {
   "cell_type": "code",
   "execution_count": 11,
   "id": "ca9c8844",
   "metadata": {},
   "outputs": [
    {
     "name": "stdout",
     "output_type": "stream",
     "text": [
      "Accuracy = 0.8499762763332701\n",
      "Precision = 0.841100122323169\n",
      "Recall = 0.8629706691087329\n",
      "F1 Score = 0.8518950491942264\n",
      "ROC Score = 0.8499768620286926\n",
      "Tpr/Sensitivity = 0.8629706691087329\n",
      "Fpr = 0.16301694505134756\n",
      "Specificity = 0.8369830549486524\n"
     ]
    },
    {
     "data": {
      "text/plain": [
       "0"
      ]
     },
     "execution_count": 11,
     "metadata": {},
     "output_type": "execute_result"
    }
   ],
   "source": [
    "y_test_predictions = fs1_lr.predict(X_test)\n",
    "accuracy = accuracy_score(y_test, y_test_predictions)\n",
    "precision = precision_score(y_test, y_test_predictions)\n",
    "recall = recall_score(y_test, y_test_predictions)\n",
    "f1score = f1_score(y_test, y_test_predictions)\n",
    "roc_score = roc_auc_score(y_test, y_test_predictions)\n",
    "\n",
    "print(f\"Accuracy = {accuracy}\")\n",
    "print(f\"Precision = {precision}\")\n",
    "print(f\"Recall = {recall}\")\n",
    "print(f\"F1 Score = {f1score}\")\n",
    "print(f\"ROC Score = {roc_score}\")\n",
    "\n",
    "calculate_metrics(y_test, y_test_predictions)\n"
   ]
  },
  {
   "cell_type": "markdown",
   "id": "7c1612c3",
   "metadata": {},
   "source": [
    "## KNN"
   ]
  },
  {
   "cell_type": "code",
   "execution_count": 12,
   "id": "10a993d1",
   "metadata": {},
   "outputs": [
    {
     "name": "stdout",
     "output_type": "stream",
     "text": [
      "0.9994567280318846\n"
     ]
    }
   ],
   "source": [
    "model_knn = KNN(n_neighbors=5)\n",
    "fs1_knn = model_knn.fit(X_train,y_train)\n",
    "print(model_knn.score(X_test,y_test))"
   ]
  },
  {
   "cell_type": "code",
   "execution_count": 13,
   "id": "9a960c05",
   "metadata": {},
   "outputs": [
    {
     "name": "stdout",
     "output_type": "stream",
     "text": [
      "Accuracy = 0.9994567280318846\n",
      "Precision = 0.999589452975754\n",
      "Recall = 0.9993238450205337\n",
      "F1 Score = 0.9994566313516592\n",
      "ROC Score = 0.9994567220424572\n",
      "Tpr/Sensitivity = 0.9993238450205337\n",
      "Fpr = 0.0004104009356192817\n",
      "Specificity = 0.9995895990643807\n"
     ]
    },
    {
     "data": {
      "text/plain": [
       "0"
      ]
     },
     "execution_count": 13,
     "metadata": {},
     "output_type": "execute_result"
    }
   ],
   "source": [
    "y_test_predictions = fs1_knn.predict(X_test)\n",
    "accuracy = accuracy_score(y_test, y_test_predictions)\n",
    "precision = precision_score(y_test, y_test_predictions)\n",
    "recall = recall_score(y_test, y_test_predictions)\n",
    "f1score = f1_score(y_test, y_test_predictions)\n",
    "roc_score = roc_auc_score(y_test, y_test_predictions)\n",
    "\n",
    "print(f\"Accuracy = {accuracy}\")\n",
    "print(f\"Precision = {precision}\")\n",
    "print(f\"Recall = {recall}\")\n",
    "print(f\"F1 Score = {f1score}\")\n",
    "print(f\"ROC Score = {roc_score}\")\n",
    "calculate_metrics(y_test, y_test_predictions)"
   ]
  },
  {
   "cell_type": "markdown",
   "id": "d6e51166",
   "metadata": {},
   "source": [
    "## Random Forest"
   ]
  },
  {
   "cell_type": "code",
   "execution_count": 14,
   "id": "0d241806",
   "metadata": {},
   "outputs": [
    {
     "name": "stdout",
     "output_type": "stream",
     "text": [
      "0.9997710666160562\n"
     ]
    }
   ],
   "source": [
    "model_rfc = RFC(random_state = 0)\n",
    "fs1_rfc = model_rfc.fit(X_train,y_train)\n",
    "print(fs1_rfc.score(X_test,y_test))"
   ]
  },
  {
   "cell_type": "code",
   "execution_count": 15,
   "id": "cd83b8ee",
   "metadata": {},
   "outputs": [
    {
     "name": "stdout",
     "output_type": "stream",
     "text": [
      "Accuracy = 0.9997710666160562\n",
      "Precision = 0.9998173026275204\n",
      "Recall = 0.9997247930609892\n",
      "F1 Score = 0.9997710457042599\n",
      "ROC Score = 0.9997710645303712\n",
      "Tpr/Sensitivity = 0.9997247930609892\n",
      "Fpr = 0.0001826640002466906\n",
      "Specificity = 0.9998173359997533\n"
     ]
    },
    {
     "data": {
      "text/plain": [
       "0"
      ]
     },
     "execution_count": 15,
     "metadata": {},
     "output_type": "execute_result"
    }
   ],
   "source": [
    "y_test_predictions = fs1_rfc.predict(X_test)\n",
    "accuracy = accuracy_score(y_test, y_test_predictions)\n",
    "precision = precision_score(y_test, y_test_predictions)\n",
    "recall = recall_score(y_test, y_test_predictions)\n",
    "f1score = f1_score(y_test, y_test_predictions)\n",
    "roc_score = roc_auc_score(y_test, y_test_predictions)\n",
    "\n",
    "print(f\"Accuracy = {accuracy}\")\n",
    "print(f\"Precision = {precision}\")\n",
    "print(f\"Recall = {recall}\")\n",
    "print(f\"F1 Score = {f1score}\")\n",
    "print(f\"ROC Score = {roc_score}\")\n",
    "calculate_metrics(y_test, y_test_predictions)"
   ]
  },
  {
   "cell_type": "markdown",
   "id": "00bf6146",
   "metadata": {},
   "source": [
    "## Naives Bays"
   ]
  },
  {
   "cell_type": "code",
   "execution_count": 16,
   "id": "83558d40",
   "metadata": {},
   "outputs": [
    {
     "name": "stdout",
     "output_type": "stream",
     "text": [
      "0.6028065097741507\n"
     ]
    }
   ],
   "source": [
    "model_gnb = GaussianNB(var_smoothing=4.3287612810830526e-07)\n",
    "fs1_gnb = model_gnb.fit(X_train,y_train)\n",
    "print(fs1_gnb.score(X_test,y_test))"
   ]
  },
  {
   "cell_type": "code",
   "execution_count": 17,
   "id": "1ce5c7cd",
   "metadata": {},
   "outputs": [
    {
     "name": "stdout",
     "output_type": "stream",
     "text": [
      "Accuracy = 0.6028065097741507\n",
      "Precision = 0.5594522089345382\n",
      "Recall = 0.9672527467313244\n",
      "F1 Score = 0.708888359533526\n",
      "ROC Score = 0.6028229364357459\n",
      "Tpr/Sensitivity = 0.9672527467313244\n",
      "Fpr = 0.7616068738598327\n",
      "Specificity = 0.23839312614016733\n"
     ]
    },
    {
     "data": {
      "text/plain": [
       "0"
      ]
     },
     "execution_count": 17,
     "metadata": {},
     "output_type": "execute_result"
    }
   ],
   "source": [
    "y_test_predictions = fs1_gnb.predict(X_test)\n",
    "accuracy = accuracy_score(y_test, y_test_predictions)\n",
    "precision = precision_score(y_test, y_test_predictions)\n",
    "recall = recall_score(y_test, y_test_predictions)\n",
    "f1score = f1_score(y_test, y_test_predictions)\n",
    "roc_score = roc_auc_score(y_test, y_test_predictions)\n",
    "\n",
    "print(f\"Accuracy = {accuracy}\")\n",
    "print(f\"Precision = {precision}\")\n",
    "print(f\"Recall = {recall}\")\n",
    "print(f\"F1 Score = {f1score}\")\n",
    "print(f\"ROC Score = {roc_score}\")\n",
    "\n",
    "calculate_metrics(y_test, y_test_predictions)"
   ]
  },
  {
   "cell_type": "markdown",
   "id": "05a2a664",
   "metadata": {},
   "source": [
    "## Decision tree "
   ]
  },
  {
   "cell_type": "code",
   "execution_count": 18,
   "id": "8df1be95",
   "metadata": {
    "scrolled": true
   },
   "outputs": [
    {
     "name": "stdout",
     "output_type": "stream",
     "text": [
      "0.9984698234959195\n"
     ]
    }
   ],
   "source": [
    "clf = DecisionTreeClassifier(criterion=\"entropy\", splitter=\"best\", max_depth=5)\n",
    "fs1_dt = clf.fit(X_train,y_train)\n",
    "print(fs1_dt.score(X_test,y_test))"
   ]
  },
  {
   "cell_type": "code",
   "execution_count": 19,
   "id": "8a107937",
   "metadata": {},
   "outputs": [
    {
     "name": "stdout",
     "output_type": "stream",
     "text": [
      "Accuracy = 0.9984698234959195\n",
      "Precision = 0.9990143477713572\n",
      "Recall = 0.9979240855893581\n",
      "F1 Score = 0.9984689190568542\n",
      "ROC Score = 0.9984697988979103\n",
      "Tpr/Sensitivity = 0.9979240855893581\n",
      "Fpr = 0.0009844877935374363\n",
      "Specificity = 0.9990155122064626\n"
     ]
    },
    {
     "data": {
      "text/plain": [
       "0"
      ]
     },
     "execution_count": 19,
     "metadata": {},
     "output_type": "execute_result"
    }
   ],
   "source": [
    "y_test_predictions = fs1_dt.predict(X_test)\n",
    "accuracy = accuracy_score(y_test, y_test_predictions)\n",
    "precision = precision_score(y_test, y_test_predictions)\n",
    "recall = recall_score(y_test, y_test_predictions)\n",
    "f1score = f1_score(y_test, y_test_predictions)\n",
    "roc_score = roc_auc_score(y_test, y_test_predictions)\n",
    "\n",
    "print(f\"Accuracy = {accuracy}\")\n",
    "print(f\"Precision = {precision}\")\n",
    "print(f\"Recall = {recall}\")\n",
    "print(f\"F1 Score = {f1score}\")\n",
    "print(f\"ROC Score = {roc_score}\")\n",
    "calculate_metrics(y_test, y_test_predictions)"
   ]
  },
  {
   "cell_type": "code",
   "execution_count": 20,
   "id": "4054c645",
   "metadata": {},
   "outputs": [
    {
     "name": "stdout",
     "output_type": "stream",
     "text": [
      "0.7056818181818182\n"
     ]
    }
   ],
   "source": [
    "lda = LDA()\n",
    "fs1_lda = lda.fit(X_train,y_train)\n",
    "print(fs1_lda.score(X_test,y_test))"
   ]
  },
  {
   "cell_type": "code",
   "execution_count": 21,
   "id": "8edd26fb",
   "metadata": {},
   "outputs": [
    {
     "name": "stdout",
     "output_type": "stream",
     "text": [
      "Accuracy = 0.7056818181818182\n",
      "Precision = 0.6604799431310152\n",
      "Recall = 0.8464606252416957\n",
      "F1 Score = 0.7419937817799915\n",
      "ROC Score = 0.7056881634958558\n",
      "Tpr/Sensitivity = 0.8464606252416957\n",
      "Fpr = 0.43508429824998396\n",
      "Specificity = 0.564915701750016\n"
     ]
    },
    {
     "data": {
      "text/plain": [
       "0"
      ]
     },
     "execution_count": 21,
     "metadata": {},
     "output_type": "execute_result"
    }
   ],
   "source": [
    "y_test_predictions = fs1_lda.predict(X_test)\n",
    "accuracy = accuracy_score(y_test, y_test_predictions)\n",
    "precision = precision_score(y_test, y_test_predictions)\n",
    "recall = recall_score(y_test, y_test_predictions)\n",
    "f1score = f1_score(y_test, y_test_predictions)\n",
    "roc_score = roc_auc_score(y_test, y_test_predictions)\n",
    "\n",
    "print(f\"Accuracy = {accuracy}\")\n",
    "print(f\"Precision = {precision}\")\n",
    "print(f\"Recall = {recall}\")\n",
    "print(f\"F1 Score = {f1score}\")\n",
    "print(f\"ROC Score = {roc_score}\")\n",
    "calculate_metrics(y_test, y_test_predictions)"
   ]
  },
  {
   "cell_type": "code",
   "execution_count": 22,
   "id": "7912ba56",
   "metadata": {},
   "outputs": [
    {
     "name": "stdout",
     "output_type": "stream",
     "text": [
      "Requirement already satisfied: xgboost in c:\\anaconda\\lib\\site-packages (2.0.0)\n",
      "Requirement already satisfied: scipy in c:\\anaconda\\lib\\site-packages (from xgboost) (1.10.0)\n",
      "Requirement already satisfied: numpy in c:\\anaconda\\lib\\site-packages (from xgboost) (1.23.0)\n"
     ]
    }
   ],
   "source": [
    "!pip install xgboost"
   ]
  },
  {
   "cell_type": "code",
   "execution_count": 23,
   "id": "b8c9d664",
   "metadata": {},
   "outputs": [
    {
     "name": "stdout",
     "output_type": "stream",
     "text": [
      "0.9997414120326438\n"
     ]
    }
   ],
   "source": [
    "import xgboost\n",
    "import matplotlib.pyplot as plt\n",
    "\n",
    "model = xgboost.XGBClassifier()\n",
    "fs1_xgb = model.fit(X_train,y_train)\n",
    "print(fs1_xgb.score(X_test,y_test))"
   ]
  },
  {
   "cell_type": "code",
   "execution_count": 24,
   "id": "10d894db",
   "metadata": {},
   "outputs": [
    {
     "name": "stdout",
     "output_type": "stream",
     "text": [
      "Accuracy = 0.9997414120326438\n",
      "Precision = 0.9997437716340964\n",
      "Recall = 0.9997390279026621\n",
      "F1 Score = 0.999741399762752\n",
      "ROC Score = 0.9997414119251841\n",
      "Tpr/Sensitivity = 0.9997390279026621\n",
      "Fpr = 0.0002562040522940956\n",
      "Specificity = 0.9997437959477059\n"
     ]
    },
    {
     "data": {
      "text/plain": [
       "0"
      ]
     },
     "execution_count": 24,
     "metadata": {},
     "output_type": "execute_result"
    }
   ],
   "source": [
    "y_test_predictions = fs1_xgb.predict(X_test)\n",
    "accuracy = accuracy_score(y_test, y_test_predictions)\n",
    "precision = precision_score(y_test, y_test_predictions)\n",
    "recall = recall_score(y_test, y_test_predictions)\n",
    "f1score = f1_score(y_test, y_test_predictions)\n",
    "roc_score = roc_auc_score(y_test, y_test_predictions)\n",
    "\n",
    "print(f\"Accuracy = {accuracy}\")\n",
    "print(f\"Precision = {precision}\")\n",
    "print(f\"Recall = {recall}\")\n",
    "print(f\"F1 Score = {f1score}\")\n",
    "print(f\"ROC Score = {roc_score}\")\n",
    "calculate_metrics(y_test, y_test_predictions)"
   ]
  },
  {
   "cell_type": "code",
   "execution_count": 28,
   "id": "ee4c19be",
   "metadata": {},
   "outputs": [
    {
     "name": "stdout",
     "output_type": "stream",
     "text": [
      "0.9991305276143481\n"
     ]
    }
   ],
   "source": [
    "abc = AdaBoostClassifier(n_estimators=100,\n",
    "                         learning_rate=1)\n",
    "# Train Adaboost Classifer\n",
    "fs1_adb = abc.fit(X_train, y_train)\n",
    "print(fs1_adb.score(X_test,y_test))"
   ]
  },
  {
   "cell_type": "code",
   "execution_count": 29,
   "id": "d7a57c20",
   "metadata": {},
   "outputs": [
    {
     "name": "stdout",
     "output_type": "stream",
     "text": [
      "Accuracy = 0.9991305276143481\n",
      "Precision = 0.9990487937946249\n",
      "Recall = 0.9992123387607621\n",
      "F1 Score = 0.9991305595851359\n",
      "ROC Score = 0.9991305313018165\n",
      "Tpr/Sensitivity = 0.9992123387607621\n",
      "Fpr = 0.0009512761571289774\n",
      "Specificity = 0.999048723842871\n"
     ]
    },
    {
     "data": {
      "text/plain": [
       "0"
      ]
     },
     "execution_count": 29,
     "metadata": {},
     "output_type": "execute_result"
    }
   ],
   "source": [
    "y_test_predictions = fs1_adb.predict(X_test)\n",
    "accuracy = accuracy_score(y_test, y_test_predictions)\n",
    "precision = precision_score(y_test, y_test_predictions)\n",
    "recall = recall_score(y_test, y_test_predictions)\n",
    "f1score = f1_score(y_test, y_test_predictions)\n",
    "roc_score = roc_auc_score(y_test, y_test_predictions)\n",
    "\n",
    "print(f\"Accuracy = {accuracy}\")\n",
    "print(f\"Precision = {precision}\")\n",
    "print(f\"Recall = {recall}\")\n",
    "print(f\"F1 Score = {f1score}\")\n",
    "print(f\"ROC Score = {roc_score}\")\n",
    "calculate_metrics(y_test, y_test_predictions)"
   ]
  },
  {
   "cell_type": "code",
   "execution_count": null,
   "id": "3df8c44a",
   "metadata": {},
   "outputs": [],
   "source": []
  }
 ],
 "metadata": {
  "kernelspec": {
   "display_name": "Python 3 (ipykernel)",
   "language": "python",
   "name": "python3"
  },
  "language_info": {
   "codemirror_mode": {
    "name": "ipython",
    "version": 3
   },
   "file_extension": ".py",
   "mimetype": "text/x-python",
   "name": "python",
   "nbconvert_exporter": "python",
   "pygments_lexer": "ipython3",
   "version": "3.10.9"
  }
 },
 "nbformat": 4,
 "nbformat_minor": 5
}
